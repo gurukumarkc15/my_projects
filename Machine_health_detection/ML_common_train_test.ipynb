{
 "cells": [
  {
   "cell_type": "code",
   "execution_count": 4,
   "id": "8d7fa88f-471a-45f7-b9e1-802f9d621430",
   "metadata": {},
   "outputs": [
    {
     "name": "stdout",
     "output_type": "stream",
     "text": [
      "\n",
      "File: Accepted_dataset.h5\n",
      "Number of classes: 5\n",
      "Elements per class:\n",
      "  Class b'New': 500 samples\n",
      "  Class b'Severe': 500 samples\n",
      "  Class b'Slightly': 500 samples\n",
      "  Class b'Working': 500 samples\n",
      "  Class b'Wornout': 500 samples\n",
      "\n",
      "File: train_dataset.h5\n",
      "Number of classes: 5\n",
      "Elements per class:\n",
      "  Class b'New': 250 samples\n",
      "  Class b'Severe': 250 samples\n",
      "  Class b'Slightly': 250 samples\n",
      "  Class b'Working': 250 samples\n",
      "  Class b'Wornout': 250 samples\n",
      "\n",
      "File: test_dataset.h5\n",
      "Number of classes: 5\n",
      "Elements per class:\n",
      "  Class b'New': 250 samples\n",
      "  Class b'Severe': 250 samples\n",
      "  Class b'Slightly': 250 samples\n",
      "  Class b'Working': 250 samples\n",
      "  Class b'Wornout': 250 samples\n"
     ]
    }
   ],
   "source": [
    "import h5py\n",
    "import numpy as np\n",
    "import pandas as pd\n",
    "from sklearn.model_selection import train_test_split\n",
    "from collections import Counter\n",
    "import os\n",
    "\n",
    "# === File paths ===\n",
    "base_path = r\"C:\\Users\\Gurukumar\\Desktop\"\n",
    "original_path = os.path.join(base_path, \"Accepted_dataset.h5\")\n",
    "train_path = os.path.join(base_path, \"train_dataset.h5\")\n",
    "test_path = os.path.join(base_path, \"test_dataset.h5\")\n",
    "\n",
    "# === Load original data ===\n",
    "with h5py.File(original_path, 'r') as f:\n",
    "    X = f['InputFeatures']['SoundPressure'][:]\n",
    "    y = f['TargetLabels']['target'][:]\n",
    "\n",
    "# === Split data ===\n",
    "X_train, X_test, y_train, y_test = train_test_split(X, y, stratify=y, test_size=0.5, random_state=42)\n",
    "\n",
    "# === Save train data ===\n",
    "with h5py.File(train_path, 'w') as f:\n",
    "    f.create_dataset('InputFeatures/SoundPressure', data=X_train)\n",
    "    f.create_dataset('TargetLabels/target', data=y_train)\n",
    "\n",
    "# === Save test data ===\n",
    "with h5py.File(test_path, 'w') as f:\n",
    "    f.create_dataset('InputFeatures/SoundPressure', data=X_test)\n",
    "    f.create_dataset('TargetLabels/target', data=y_test)\n",
    "\n",
    "# === Helper function to extract and print class info ===\n",
    "def print_class_info(file_path):\n",
    "    with h5py.File(file_path, 'r') as f:\n",
    "        y = f['TargetLabels']['target'][:]\n",
    "    counter = Counter(y)\n",
    "    num_classes = len(counter)\n",
    "    print(f\"\\nFile: {os.path.basename(file_path)}\")\n",
    "    print(f\"Number of classes: {num_classes}\")\n",
    "    print(\"Elements per class:\")\n",
    "    for cls, count in sorted(counter.items()):\n",
    "        print(f\"  Class {cls}: {count} samples\")\n",
    "\n",
    "# === Print class info for all datasets ===\n",
    "print_class_info(original_path)\n",
    "print_class_info(train_path)\n",
    "print_class_info(test_path)\n"
   ]
  },
  {
   "cell_type": "code",
   "execution_count": null,
   "id": "bed43cdb-7800-4dc9-a74a-9cf0396c2573",
   "metadata": {},
   "outputs": [],
   "source": []
  }
 ],
 "metadata": {
  "kernelspec": {
   "display_name": "Python 3 (ipykernel)",
   "language": "python",
   "name": "python3"
  },
  "language_info": {
   "codemirror_mode": {
    "name": "ipython",
    "version": 3
   },
   "file_extension": ".py",
   "mimetype": "text/x-python",
   "name": "python",
   "nbconvert_exporter": "python",
   "pygments_lexer": "ipython3",
   "version": "3.11.4"
  }
 },
 "nbformat": 4,
 "nbformat_minor": 5
}
