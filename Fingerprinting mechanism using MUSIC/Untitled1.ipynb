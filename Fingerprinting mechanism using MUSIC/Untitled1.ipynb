{
 "cells": [
  {
   "cell_type": "code",
   "execution_count": 1,
   "id": "95b48da8-9037-4e91-850c-afdaf9d7395a",
   "metadata": {},
   "outputs": [
    {
     "ename": "SyntaxError",
     "evalue": "invalid syntax (1592893136.py, line 6)",
     "output_type": "error",
     "traceback": [
      "\u001b[1;36m  Cell \u001b[1;32mIn[1], line 6\u001b[1;36m\u001b[0m\n\u001b[1;33m    path = rimport cv2\u001b[0m\n\u001b[1;37m                   ^\u001b[0m\n\u001b[1;31mSyntaxError\u001b[0m\u001b[1;31m:\u001b[0m invalid syntax\n"
     ]
    }
   ],
   "source": [
    "import cv2\n",
    "import numpy as np\n",
    "import matplotlib.pyplot as plt\n",
    "\n",
    "# Load the image in grayscale\n",
    "path = rimport cv2\n",
    "import numpy as np\n",
    "import matplotlib.pyplot as plt\n",
    "\n",
    "# Load the image in grayscale\n",
    "path = r\"C:\\Users\\Gurukumar\\Pictures\\Saved Pictures\\wallpaperflare.com_wallpaper (1).jpg\"\n",
    "img = cv2.imread(path, 0)\n",
    "\n",
    "downsampled_img = img.copy()\n",
    "for _ in range(5):\n",
    "    downsampled_img = cv2.resize(downsampled_img, (downsampled_img.shape[1] // 2, downsampled_img.shape[0] // 2))\n",
    "\n",
    "# Compute the FFT of the downsampled image\n",
    "fft_result = np.fft.fftshift(np.fft.fft2(downsampled_img))\n",
    "\n",
    "# Compute the magnitude spectrum (log scale for visualization)\n",
    "magnitude_spectrum = 20 * np.log(np.abs(fft_result))\n",
    "\n",
    "# Compute the covariance matrix\n",
    "N = magnitude_spectrum.size\n",
    "covariance_mm = np.zeros((N, N), dtype=np.complex128)\n",
    "for i in range(N):\n",
    "    covariance_mm[i] = magnitude_spectrum.flatten() * np.conj(magnitude_spectrum.flatten()[i])\n",
    "\n",
    "# Print the shape of covariance_mm\n",
    "print(np.shape(covariance_mm))\n",
    "\n",
    "# Plot the original image and its magnitude spectrum\n",
    "plt.subplot(121), plt.imshow(downsampled_img, cmap='gray')\n",
    "plt.title('Original Image'), plt.xticks([]), plt.yticks([])\n",
    "plt.subplot(122), plt.imshow(magnitude_spectrum, cmap='gray')\n",
    "plt.title('Fourier Magnitude Spectrum'), plt.xticks([]), plt.yticks([])\n",
    "plt.show()\n",
    "\n",
    "img = cv2.imread(path, 0)\n",
    "\n",
    "downsampled_img = img.copy()\n",
    "for _ in range(5):\n",
    "    downsampled_img = cv2.resize(downsampled_img, (downsampled_img.shape[1] // 2, downsampled_img.shape[0] // 2))\n",
    "\n",
    "# Compute the FFT of the downsampled image\n",
    "fft_result = np.fft.fftshift(np.fft.fft2(downsampled_img))\n",
    "\n",
    "# Compute the magnitude spectrum (log scale for visualization)\n",
    "magnitude_spectrum = 20 * np.log(np.abs(fft_result))\n",
    "\n",
    "# Compute the covariance matrix\n",
    "N = magnitude_spectrum.size\n",
    "covariance_mm = np.zeros((N, N), dtype=np.complex128)\n",
    "for i in range(N):\n",
    "    covariance_mm[i] = magnitude_spectrum.flatten() * np.conj(magnitude_spectrum.flatten()[i])\n",
    "\n",
    "# Print the shape of covariance_mm\n",
    "print(np.shape(covariance_mm))\n",
    "\n",
    "# Plot the original image and its magnitude spectrum\n",
    "plt.subplot(121), plt.imshow(downsampled_img, cmap='gray')\n",
    "plt.title('Original Image'), plt.xticks([]), plt.yticks([])\n",
    "plt.subplot(122), plt.imshow(magnitude_spectrum, cmap='gray')\n",
    "plt.title('Fourier Magnitude Spectrum'), plt.xticks([]), plt.yticks([])\n",
    "plt.show()\n"
   ]
  },
  {
   "cell_type": "code",
   "execution_count": null,
   "id": "7f480d19-2d7f-4cc5-aff6-52fc9d7af292",
   "metadata": {},
   "outputs": [],
   "source": []
  },
  {
   "cell_type": "code",
   "execution_count": null,
   "id": "ac2c66b7-2ec6-475b-872f-93ae045f5d41",
   "metadata": {},
   "outputs": [],
   "source": []
  }
 ],
 "metadata": {
  "kernelspec": {
   "display_name": "Python 3 (ipykernel)",
   "language": "python",
   "name": "python3"
  },
  "language_info": {
   "codemirror_mode": {
    "name": "ipython",
    "version": 3
   },
   "file_extension": ".py",
   "mimetype": "text/x-python",
   "name": "python",
   "nbconvert_exporter": "python",
   "pygments_lexer": "ipython3",
   "version": "3.11.4"
  }
 },
 "nbformat": 4,
 "nbformat_minor": 5
}
